{
 "cells": [
  {
   "cell_type": "code",
   "execution_count": 1,
   "id": "b7fe3fe5-0cd6-4f90-a6de-3f5b32820e03",
   "metadata": {},
   "outputs": [
    {
     "name": "stdout",
     "output_type": "stream",
     "text": [
      "True\n"
     ]
    }
   ],
   "source": [
    "# 1. Given an array, check if it contains any duplicates or not.\n",
    "\n",
    "arr = [1, 2, 4, 2, 5, 9]\n",
    "\n",
    "# fn definition\n",
    "def is_duplicates(arr):\n",
    "    for i in arr:\n",
    "        if arr.count(i) >1:\n",
    "            return True\n",
    "    return False\n",
    "\n",
    "# runner code\n",
    "print(is_duplicates(arr))"
   ]
  },
  {
   "cell_type": "code",
   "execution_count": 2,
   "id": "6f53933f-2f65-4c78-a352-fbc7e4b00b2d",
   "metadata": {},
   "outputs": [
    {
     "name": "stdout",
     "output_type": "stream",
     "text": [
      "[5, 6, 7, 1, 2, 3, 4]\n"
     ]
    }
   ],
   "source": [
    "# 2. Given an array and an integer k, rotate the array to the right by k steps.\n",
    "# Output = [5, 6, 7, 1, 2, 3, 4]\n",
    "\n",
    "arr = [1, 2, 3, 4, 5, 6, 7] \n",
    "k = 3\n",
    "\n",
    "# fn definition\n",
    "def rotate_array_by(arr, k):\n",
    "    return arr[-k:] + arr[:-k]\n",
    "\n",
    "print(rotate_array_by(arr, k))\n",
    "        "
   ]
  },
  {
   "cell_type": "code",
   "execution_count": 3,
   "id": "ad5e390d-c5fb-46a1-a711-9f638e61c9c9",
   "metadata": {},
   "outputs": [
    {
     "name": "stdout",
     "output_type": "stream",
     "text": [
      "[12, 9, 7, 5, 4, 2]\n"
     ]
    }
   ],
   "source": [
    "# 3. Reverse the given array in-place, means without using any extra data structure.\n",
    "arr = [2, 4, 5, 7, 9, 12]\n",
    "# Output = [12, 9, 7, 5, 4, 2]\n",
    "\n",
    "# fn definition\n",
    "def reverse_arr(arr):\n",
    "    return arr[-1::-1]\n",
    "\n",
    "print(reverse_arr(arr))"
   ]
  },
  {
   "cell_type": "code",
   "execution_count": 4,
   "id": "b81743a6-8ab4-4fbd-b8eb-dfe4cc739293",
   "metadata": {},
   "outputs": [
    {
     "name": "stdout",
     "output_type": "stream",
     "text": [
      "20\n"
     ]
    }
   ],
   "source": [
    "# 4. Given an array of integers, find the maximum element in an array\n",
    "arr = [10, 5, 20, 8, 15]\n",
    "# Output = 20\n",
    "\n",
    "# fn definition\n",
    "def max_element(arr):\n",
    "    m = arr[0]\n",
    "    for i in arr:\n",
    "        if i>m:\n",
    "            m = i\n",
    "    return m\n",
    "\n",
    "print(max_element(arr))"
   ]
  },
  {
   "cell_type": "code",
   "execution_count": 5,
   "id": "3ccbf99a-6ce1-43db-b569-bcdbe624e7d5",
   "metadata": {},
   "outputs": [
    {
     "name": "stdout",
     "output_type": "stream",
     "text": [
      "[1, 2, 3, 4, 5]\n"
     ]
    }
   ],
   "source": [
    "# 5. Given a sorted array, remove the duplicate element without using any extra data structure.\n",
    "arr = [1, 1, 2, 2, 2, 3, 3, 4, 4, 4, 5, 5]\n",
    "# Output = [1, 2, 3, 4, 5]\n",
    "\n",
    "# fn definition\n",
    "def rmv_duplicates(arr):\n",
    "    # return list(set(arr))\n",
    "    for i in arr:\n",
    "        c = arr.count(i)\n",
    "        if c>1:\n",
    "            for j in range(c-1):\n",
    "                arr.remove(i)\n",
    "    return arr\n",
    "\n",
    "print(rmv_duplicates(arr))"
   ]
  },
  {
   "cell_type": "code",
   "execution_count": null,
   "id": "8f392e76-296e-43ca-9b55-b5a44275978f",
   "metadata": {},
   "outputs": [],
   "source": []
  }
 ],
 "metadata": {
  "kernelspec": {
   "display_name": "Python 3 (ipykernel)",
   "language": "python",
   "name": "python3"
  },
  "language_info": {
   "codemirror_mode": {
    "name": "ipython",
    "version": 3
   },
   "file_extension": ".py",
   "mimetype": "text/x-python",
   "name": "python",
   "nbconvert_exporter": "python",
   "pygments_lexer": "ipython3",
   "version": "3.10.8"
  }
 },
 "nbformat": 4,
 "nbformat_minor": 5
}
